{
 "cells": [
  {
   "cell_type": "code",
   "execution_count": 1,
   "metadata": {},
   "outputs": [],
   "source": [
    "# import libraries\n",
    "\n",
    "import pandas as pd\n",
    "import numpy as np\n",
    "\n",
    "import os\n",
    "\n",
    "# read image\n",
    "\n",
    "from skimage import io, transform\n",
    "\n",
    "# graphs\n",
    "\n",
    "import matplotlib.pyplot as plt\n",
    "import seaborn as sns\n",
    "\n",
    "# tensorflow\n",
    "\n",
    "from tensorflow.keras.layers import *\n",
    "from tensorflow.keras.models import Sequential\n",
    "from tensorflow.keras import utils\n",
    "\n",
    "# model selection\n",
    "\n",
    "from sklearn.model_selection import train_test_split"
   ]
  },
  {
   "cell_type": "code",
   "execution_count": 2,
   "metadata": {},
   "outputs": [
    {
     "name": "stdout",
     "output_type": "stream",
     "text": [
      "(15000, 8)\n"
     ]
    },
    {
     "data": {
      "text/html": [
       "<div>\n",
       "<style scoped>\n",
       "    .dataframe tbody tr th:only-of-type {\n",
       "        vertical-align: middle;\n",
       "    }\n",
       "\n",
       "    .dataframe tbody tr th {\n",
       "        vertical-align: top;\n",
       "    }\n",
       "\n",
       "    .dataframe thead th {\n",
       "        text-align: right;\n",
       "    }\n",
       "</style>\n",
       "<table border=\"1\" class=\"dataframe\">\n",
       "  <thead>\n",
       "    <tr style=\"text-align: right;\">\n",
       "      <th></th>\n",
       "      <th>suite_id</th>\n",
       "      <th>sample_id</th>\n",
       "      <th>code</th>\n",
       "      <th>value</th>\n",
       "      <th>character</th>\n",
       "      <th>file_names</th>\n",
       "      <th>width</th>\n",
       "      <th>height</th>\n",
       "    </tr>\n",
       "  </thead>\n",
       "  <tbody>\n",
       "    <tr>\n",
       "      <th>0</th>\n",
       "      <td>1</td>\n",
       "      <td>1</td>\n",
       "      <td>10</td>\n",
       "      <td>9</td>\n",
       "      <td>九</td>\n",
       "      <td>input_1_1_10.jpg</td>\n",
       "      <td>64</td>\n",
       "      <td>64</td>\n",
       "    </tr>\n",
       "    <tr>\n",
       "      <th>1</th>\n",
       "      <td>1</td>\n",
       "      <td>10</td>\n",
       "      <td>10</td>\n",
       "      <td>9</td>\n",
       "      <td>九</td>\n",
       "      <td>input_1_10_10.jpg</td>\n",
       "      <td>64</td>\n",
       "      <td>64</td>\n",
       "    </tr>\n",
       "    <tr>\n",
       "      <th>2</th>\n",
       "      <td>1</td>\n",
       "      <td>2</td>\n",
       "      <td>10</td>\n",
       "      <td>9</td>\n",
       "      <td>九</td>\n",
       "      <td>input_1_2_10.jpg</td>\n",
       "      <td>64</td>\n",
       "      <td>64</td>\n",
       "    </tr>\n",
       "    <tr>\n",
       "      <th>3</th>\n",
       "      <td>1</td>\n",
       "      <td>3</td>\n",
       "      <td>10</td>\n",
       "      <td>9</td>\n",
       "      <td>九</td>\n",
       "      <td>input_1_3_10.jpg</td>\n",
       "      <td>64</td>\n",
       "      <td>64</td>\n",
       "    </tr>\n",
       "    <tr>\n",
       "      <th>4</th>\n",
       "      <td>1</td>\n",
       "      <td>4</td>\n",
       "      <td>10</td>\n",
       "      <td>9</td>\n",
       "      <td>九</td>\n",
       "      <td>input_1_4_10.jpg</td>\n",
       "      <td>64</td>\n",
       "      <td>64</td>\n",
       "    </tr>\n",
       "  </tbody>\n",
       "</table>\n",
       "</div>"
      ],
      "text/plain": [
       "   suite_id  sample_id  code  value character         file_names  width  \\\n",
       "0         1          1    10      9         九   input_1_1_10.jpg     64   \n",
       "1         1         10    10      9         九  input_1_10_10.jpg     64   \n",
       "2         1          2    10      9         九   input_1_2_10.jpg     64   \n",
       "3         1          3    10      9         九   input_1_3_10.jpg     64   \n",
       "4         1          4    10      9         九   input_1_4_10.jpg     64   \n",
       "\n",
       "   height  \n",
       "0      64  \n",
       "1      64  \n",
       "2      64  \n",
       "3      64  \n",
       "4      64  "
      ]
     },
     "execution_count": 2,
     "metadata": {},
     "output_type": "execute_result"
    }
   ],
   "source": [
    "# read in the data\n",
    "\n",
    "df = pd.read_csv('../data/final.csv')\n",
    "\n",
    "print(df.shape)\n",
    "df.head()"
   ]
  },
  {
   "cell_type": "code",
   "execution_count": 3,
   "metadata": {},
   "outputs": [
    {
     "data": {
      "text/plain": [
       "['input_69_2_7.jpg',\n",
       " 'input_11_7_12.jpg',\n",
       " 'input_81_4_10.jpg',\n",
       " 'input_84_6_1.jpg',\n",
       " 'input_36_3_3.jpg',\n",
       " 'input_38_7_15.jpg',\n",
       " 'input_3_1_15.jpg',\n",
       " 'input_75_2_13.jpg',\n",
       " 'input_17_8_2.jpg',\n",
       " 'input_61_4_7.jpg']"
      ]
     },
     "execution_count": 3,
     "metadata": {},
     "output_type": "execute_result"
    }
   ],
   "source": [
    "# read in the image data\n",
    "\n",
    "# create a files variable that contains image files\n",
    "\n",
    "path = '../data/images/'\n",
    "files = os.listdir(path)\n",
    "\n",
    "files = [file for file in files if file.endswith('jpg')]\n",
    "files[:10]"
   ]
  },
  {
   "cell_type": "code",
   "execution_count": 4,
   "metadata": {},
   "outputs": [
    {
     "data": {
      "image/png": "[encoded data removed]",
      "text/plain": [
       "<Figure size 432x288 with 1 Axes>"
      ]
     },
     "metadata": {
      "needs_background": "light"
     },
     "output_type": "display_data"
    }
   ],
   "source": [
    "image = io.imread(path + files[4])    \n",
    "\n",
    "plt.imshow(image, cmap = 'gray');"
   ]
  },
  {
   "cell_type": "code",
   "execution_count": 5,
   "metadata": {},
   "outputs": [],
   "source": [
    "# train test split for training a model\n",
    "\n",
    "train, test = train_test_split(df, \n",
    "                               test_size = 0.2,\n",
    "                               random_state = 2020,\n",
    "                               stratify = df['character'].values) "
   ]
  },
  {
   "cell_type": "code",
   "execution_count": 6,
   "metadata": {},
   "outputs": [],
   "source": [
    "# create image datasets for train and test\n",
    "# read in the image and transform first, so that the values fit between 0 and 1\n",
    "\n",
    "def img_df(df, path, img_size, n):\n",
    "    \n",
    "    images = []\n",
    "    \n",
    "    for file in df['file_names']:\n",
    "        image = io.imread(path + file)\n",
    "        image = transform.resize(image, (img_size, img_size, n))\n",
    "        images.append(image)\n",
    "        \n",
    "    images = np.array(images)\n",
    "    y = pd.get_dummies(df['character'])\n",
    "    \n",
    "    return images, y\n",
    "\n",
    "X_train, y_train = img_df(train, path, 64, 1)\n",
    "X_test, y_test = img_df(test, path, 64, 1)"
   ]
  },
  {
   "cell_type": "code",
   "execution_count": 13,
   "metadata": {},
   "outputs": [
    {
     "data": {
      "text/plain": [
       "(12000, 64, 64, 1)"
      ]
     },
     "execution_count": 13,
     "metadata": {},
     "output_type": "execute_result"
    }
   ],
   "source": [
    "X_train.shape"
   ]
  },
  {
   "cell_type": "code",
   "execution_count": 14,
   "metadata": {},
   "outputs": [
    {
     "data": {
      "text/plain": [
       "(3000, 64, 64, 1)"
      ]
     },
     "execution_count": 14,
     "metadata": {},
     "output_type": "execute_result"
    }
   ],
   "source": [
    "X_test.shape"
   ]
  },
  {
   "cell_type": "code",
   "execution_count": 15,
   "metadata": {},
   "outputs": [
    {
     "data": {
      "text/plain": [
       "(12000, 15)"
      ]
     },
     "execution_count": 15,
     "metadata": {},
     "output_type": "execute_result"
    }
   ],
   "source": [
    "y_train.shape"
   ]
  },
  {
   "cell_type": "code",
   "execution_count": 16,
   "metadata": {},
   "outputs": [
    {
     "data": {
      "text/plain": [
       "(3000, 15)"
      ]
     },
     "execution_count": 16,
     "metadata": {},
     "output_type": "execute_result"
    }
   ],
   "source": [
    "y_test.shape"
   ]
  },
  {
   "cell_type": "markdown",
   "metadata": {},
   "source": [
    "### Models"
   ]
  },
  {
   "cell_type": "code",
   "execution_count": 7,
   "metadata": {},
   "outputs": [
    {
     "name": "stdout",
     "output_type": "stream",
     "text": [
      "Model: \"sequential\"\n",
      "_________________________________________________________________\n",
      "Layer (type)                 Output Shape              Param #   \n",
      "=================================================================\n",
      "conv2d (Conv2D)              (None, 64, 64, 32)        544       \n",
      "_________________________________________________________________\n",
      "conv2d_1 (Conv2D)            (None, 64, 64, 16)        8208      \n",
      "_________________________________________________________________\n",
      "max_pooling2d (MaxPooling2D) (None, 16, 16, 16)        0         \n",
      "_________________________________________________________________\n",
      "flatten (Flatten)            (None, 4096)              0         \n",
      "_________________________________________________________________\n",
      "dense (Dense)                (None, 15)                61455     \n",
      "=================================================================\n",
      "Total params: 70,207\n",
      "Trainable params: 70,207\n",
      "Non-trainable params: 0\n",
      "_________________________________________________________________\n"
     ]
    }
   ],
   "source": [
    "# instantiate the model\n",
    "\n",
    "model = Sequential()\n",
    "\n",
    "# add layers\n",
    "\n",
    "model.add(Conv2D(32, padding = 'same', \n",
    "                 kernel_size = 4,\n",
    "                 input_shape = (64, 64, 1), activation = 'relu'))\n",
    "\n",
    "model.add(Conv2D(16, padding = 'same', \n",
    "                 kernel_size = 4,\n",
    "                 activation = 'relu'))\n",
    "\n",
    "model.add(MaxPool2D(4))\n",
    "\n",
    "model.add(Flatten())\n",
    "\n",
    "model.add(Dense(15, \n",
    "                activation = 'softmax'))\n",
    "\n",
    "model.compile(optimizer = 'adam', \n",
    "              loss = 'categorical_crossentropy', \n",
    "              metrics = ['accuracy'])\n",
    "\n",
    "\n",
    "model.summary()"
   ]
  },
  {
   "cell_type": "code",
   "execution_count": 8,
   "metadata": {},
   "outputs": [
    {
     "name": "stdout",
     "output_type": "stream",
     "text": [
      "Epoch 1/30\n",
      "188/188 [==============================] - 44s 233ms/step - loss: 1.6799 - accuracy: 0.4857 - val_loss: 0.9803 - val_accuracy: 0.7013\n",
      "Epoch 2/30\n",
      "188/188 [==============================] - 45s 238ms/step - loss: 0.7208 - accuracy: 0.7778 - val_loss: 0.5922 - val_accuracy: 0.8103\n",
      "Epoch 3/30\n",
      "188/188 [==============================] - 44s 235ms/step - loss: 0.4798 - accuracy: 0.8522 - val_loss: 0.4586 - val_accuracy: 0.8607\n",
      "Epoch 4/30\n",
      "188/188 [==============================] - 43s 231ms/step - loss: 0.3638 - accuracy: 0.8875 - val_loss: 0.3771 - val_accuracy: 0.8887\n",
      "Epoch 5/30\n",
      "188/188 [==============================] - 44s 235ms/step - loss: 0.2820 - accuracy: 0.9146 - val_loss: 0.3400 - val_accuracy: 0.8987\n",
      "Epoch 6/30\n",
      "188/188 [==============================] - 45s 237ms/step - loss: 0.2349 - accuracy: 0.9298 - val_loss: 0.3159 - val_accuracy: 0.9043\n",
      "Epoch 7/30\n",
      "188/188 [==============================] - 44s 236ms/step - loss: 0.1981 - accuracy: 0.9378 - val_loss: 0.3045 - val_accuracy: 0.9093\n",
      "Epoch 8/30\n",
      "188/188 [==============================] - 46s 245ms/step - loss: 0.1659 - accuracy: 0.9493 - val_loss: 0.2861 - val_accuracy: 0.9197\n",
      "Epoch 9/30\n",
      "188/188 [==============================] - 46s 242ms/step - loss: 0.1481 - accuracy: 0.9546 - val_loss: 0.3039 - val_accuracy: 0.9090\n",
      "Epoch 10/30\n",
      "188/188 [==============================] - 45s 237ms/step - loss: 0.1253 - accuracy: 0.9621 - val_loss: 0.2772 - val_accuracy: 0.9250\n",
      "Epoch 11/30\n",
      "188/188 [==============================] - 45s 239ms/step - loss: 0.1044 - accuracy: 0.9688 - val_loss: 0.2615 - val_accuracy: 0.9297\n",
      "Epoch 12/30\n",
      "188/188 [==============================] - 45s 238ms/step - loss: 0.0888 - accuracy: 0.9741 - val_loss: 0.2701 - val_accuracy: 0.9340\n",
      "Epoch 13/30\n",
      "188/188 [==============================] - 45s 237ms/step - loss: 0.0738 - accuracy: 0.9793 - val_loss: 0.2867 - val_accuracy: 0.9250\n",
      "Epoch 14/30\n",
      "188/188 [==============================] - 45s 242ms/step - loss: 0.0680 - accuracy: 0.9802 - val_loss: 0.2745 - val_accuracy: 0.9310\n",
      "Epoch 15/30\n",
      "188/188 [==============================] - 58s 311ms/step - loss: 0.0633 - accuracy: 0.9812 - val_loss: 0.2716 - val_accuracy: 0.9313\n",
      "Epoch 16/30\n",
      "188/188 [==============================] - 49s 263ms/step - loss: 0.0478 - accuracy: 0.9874 - val_loss: 0.2910 - val_accuracy: 0.9337\n",
      "Epoch 17/30\n",
      "188/188 [==============================] - 51s 273ms/step - loss: 0.0426 - accuracy: 0.9889 - val_loss: 0.3006 - val_accuracy: 0.9290\n",
      "Epoch 18/30\n",
      "188/188 [==============================] - 50s 268ms/step - loss: 0.0425 - accuracy: 0.9864 - val_loss: 0.3047 - val_accuracy: 0.9293\n",
      "Epoch 19/30\n",
      "188/188 [==============================] - 49s 259ms/step - loss: 0.0390 - accuracy: 0.9887 - val_loss: 0.3008 - val_accuracy: 0.9313\n",
      "Epoch 20/30\n",
      "188/188 [==============================] - 49s 263ms/step - loss: 0.0341 - accuracy: 0.9894 - val_loss: 0.3112 - val_accuracy: 0.9270\n",
      "Epoch 21/30\n",
      "188/188 [==============================] - 49s 261ms/step - loss: 0.0370 - accuracy: 0.9890 - val_loss: 0.3033 - val_accuracy: 0.9367\n",
      "Epoch 22/30\n",
      "188/188 [==============================] - 48s 258ms/step - loss: 0.0265 - accuracy: 0.9919 - val_loss: 0.3140 - val_accuracy: 0.9363\n",
      "Epoch 23/30\n",
      "188/188 [==============================] - 50s 264ms/step - loss: 0.0245 - accuracy: 0.9938 - val_loss: 0.3468 - val_accuracy: 0.9270\n",
      "Epoch 24/30\n",
      "188/188 [==============================] - 49s 261ms/step - loss: 0.0358 - accuracy: 0.9889 - val_loss: 0.3363 - val_accuracy: 0.9363\n",
      "Epoch 25/30\n",
      "188/188 [==============================] - 49s 263ms/step - loss: 0.0267 - accuracy: 0.9932 - val_loss: 0.2873 - val_accuracy: 0.9443\n",
      "Epoch 26/30\n",
      "188/188 [==============================] - 50s 264ms/step - loss: 0.0227 - accuracy: 0.9947 - val_loss: 0.2928 - val_accuracy: 0.9393\n",
      "Epoch 27/30\n",
      "188/188 [==============================] - 49s 261ms/step - loss: 0.0138 - accuracy: 0.9967 - val_loss: 0.3134 - val_accuracy: 0.9413\n",
      "Epoch 28/30\n",
      "188/188 [==============================] - 50s 265ms/step - loss: 0.0116 - accuracy: 0.9975 - val_loss: 0.3058 - val_accuracy: 0.9437\n",
      "Epoch 29/30\n",
      "188/188 [==============================] - 50s 267ms/step - loss: 0.0073 - accuracy: 0.9990 - val_loss: 0.2886 - val_accuracy: 0.9480\n",
      "Epoch 30/30\n",
      "188/188 [==============================] - 50s 267ms/step - loss: 0.0058 - accuracy: 0.9989 - val_loss: 0.3109 - val_accuracy: 0.9433\n"
     ]
    }
   ],
   "source": [
    "history = model.fit(X_train, \n",
    "                    y_train, \n",
    "                    batch_size = 64, \n",
    "                    epochs = 30, \n",
    "                    validation_data = (X_test, y_test))"
   ]
  },
  {
   "cell_type": "code",
   "execution_count": 11,
   "metadata": {},
   "outputs": [
    {
     "data": {
      "image/png": "[encoded data removed]",
      "text/plain": [
       "<Figure size 432x288 with 1 Axes>"
      ]
     },
     "metadata": {
      "needs_background": "light"
     },
     "output_type": "display_data"
    }
   ],
   "source": [
    "plt.plot(history.history['loss'], label = 'train loss')\n",
    "plt.plot(history.history['val_loss'], label = 'test loss')\n",
    "plt.legend();"
   ]
  },
  {
   "cell_type": "code",
   "execution_count": 12,
   "metadata": {},
   "outputs": [
    {
     "data": {
      "image/png": "[encoded data removed]",
      "text/plain": [
       "<Figure size 432x288 with 1 Axes>"
      ]
     },
     "metadata": {
      "needs_background": "light"
     },
     "output_type": "display_data"
    }
   ],
   "source": [
    "plt.plot(history.history['accuracy'], label = 'train acc')\n",
    "plt.plot(history.history['val_accuracy'], label = 'test acc')\n",
    "plt.legend();"
   ]
  },
  {
   "cell_type": "code",
   "execution_count": 17,
   "metadata": {},
   "outputs": [
    {
     "name": "stdout",
     "output_type": "stream",
     "text": [
      "Model: \"sequential_1\"\n",
      "_________________________________________________________________\n",
      "Layer (type)                 Output Shape              Param #   \n",
      "=================================================================\n",
      "conv2d_2 (Conv2D)            (None, 64, 64, 32)        544       \n",
      "_________________________________________________________________\n",
      "conv2d_3 (Conv2D)            (None, 64, 64, 16)        8208      \n",
      "_________________________________________________________________\n",
      "dropout (Dropout)            (None, 64, 64, 16)        0         \n",
      "_________________________________________________________________\n",
      "max_pooling2d_1 (MaxPooling2 (None, 16, 16, 16)        0         \n",
      "_________________________________________________________________\n",
      "flatten_1 (Flatten)          (None, 4096)              0         \n",
      "_________________________________________________________________\n",
      "dense_1 (Dense)              (None, 15)                61455     \n",
      "=================================================================\n",
      "Total params: 70,207\n",
      "Trainable params: 70,207\n",
      "Non-trainable params: 0\n",
      "_________________________________________________________________\n"
     ]
    }
   ],
   "source": [
    "# instantiate the model\n",
    "\n",
    "model2 = Sequential()\n",
    "\n",
    "# add layers\n",
    "\n",
    "model2.add(Conv2D(32, padding = 'same', \n",
    "                  kernel_size = 4,\n",
    "                  input_shape = (64, 64, 1), activation = 'relu'))\n",
    "\n",
    "model2.add(Conv2D(16, padding = 'same', \n",
    "                  kernel_size = 4,\n",
    "                  activation = 'relu'))\n",
    "\n",
    "model2.add(Dropout(0.3))\n",
    "\n",
    "model2.add(MaxPool2D(4))\n",
    "\n",
    "model2.add(Flatten())\n",
    "\n",
    "model2.add(Dense(15, \n",
    "                 activation = 'softmax'))\n",
    "\n",
    "model2.compile(optimizer = 'adam', \n",
    "               loss = 'categorical_crossentropy', \n",
    "               metrics = ['accuracy'])\n",
    "\n",
    "model2.summary()"
   ]
  },
  {
   "cell_type": "code",
   "execution_count": 18,
   "metadata": {},
   "outputs": [
    {
     "name": "stdout",
     "output_type": "stream",
     "text": [
      "Epoch 1/30\n",
      "188/188 [==============================] - 47s 251ms/step - loss: 1.5897 - accuracy: 0.5213 - val_loss: 0.9668 - val_accuracy: 0.7407\n",
      "Epoch 2/30\n",
      "188/188 [==============================] - 48s 253ms/step - loss: 0.7321 - accuracy: 0.7739 - val_loss: 0.7061 - val_accuracy: 0.7833\n",
      "Epoch 3/30\n",
      "188/188 [==============================] - 48s 256ms/step - loss: 0.4906 - accuracy: 0.8494 - val_loss: 0.5099 - val_accuracy: 0.8493\n",
      "Epoch 4/30\n",
      "188/188 [==============================] - 48s 255ms/step - loss: 0.3481 - accuracy: 0.8892 - val_loss: 0.4181 - val_accuracy: 0.8870\n",
      "Epoch 5/30\n",
      "188/188 [==============================] - 50s 267ms/step - loss: 0.2631 - accuracy: 0.9167 - val_loss: 0.3631 - val_accuracy: 0.8970\n",
      "Epoch 6/30\n",
      "188/188 [==============================] - 50s 265ms/step - loss: 0.2201 - accuracy: 0.9310 - val_loss: 0.3169 - val_accuracy: 0.9103\n",
      "Epoch 7/30\n",
      "188/188 [==============================] - 50s 267ms/step - loss: 0.1875 - accuracy: 0.9397 - val_loss: 0.3138 - val_accuracy: 0.9073\n",
      "Epoch 8/30\n",
      "188/188 [==============================] - 50s 268ms/step - loss: 0.1566 - accuracy: 0.9494 - val_loss: 0.2739 - val_accuracy: 0.9190\n",
      "Epoch 9/30\n",
      "188/188 [==============================] - 51s 271ms/step - loss: 0.1407 - accuracy: 0.9537 - val_loss: 0.3038 - val_accuracy: 0.9117\n",
      "Epoch 10/30\n",
      "188/188 [==============================] - 51s 270ms/step - loss: 0.1227 - accuracy: 0.9569 - val_loss: 0.2789 - val_accuracy: 0.9230\n",
      "Epoch 11/30\n",
      "188/188 [==============================] - 51s 274ms/step - loss: 0.1120 - accuracy: 0.9630 - val_loss: 0.2753 - val_accuracy: 0.9233\n",
      "Epoch 12/30\n",
      "188/188 [==============================] - 51s 272ms/step - loss: 0.0971 - accuracy: 0.9691 - val_loss: 0.2662 - val_accuracy: 0.9317\n",
      "Epoch 13/30\n",
      "188/188 [==============================] - 53s 280ms/step - loss: 0.0976 - accuracy: 0.9676 - val_loss: 0.2863 - val_accuracy: 0.9187\n",
      "Epoch 14/30\n",
      "188/188 [==============================] - 54s 286ms/step - loss: 0.0856 - accuracy: 0.9710 - val_loss: 0.2549 - val_accuracy: 0.9303\n",
      "Epoch 15/30\n",
      "188/188 [==============================] - 53s 280ms/step - loss: 0.0728 - accuracy: 0.9758 - val_loss: 0.2616 - val_accuracy: 0.9270\n",
      "Epoch 16/30\n",
      "188/188 [==============================] - 53s 282ms/step - loss: 0.0689 - accuracy: 0.9768 - val_loss: 0.2754 - val_accuracy: 0.9240\n",
      "Epoch 17/30\n",
      "188/188 [==============================] - 55s 291ms/step - loss: 0.0636 - accuracy: 0.9782 - val_loss: 0.2531 - val_accuracy: 0.9270\n",
      "Epoch 18/30\n",
      "188/188 [==============================] - 54s 286ms/step - loss: 0.0630 - accuracy: 0.9788 - val_loss: 0.2519 - val_accuracy: 0.9323\n",
      "Epoch 19/30\n",
      "188/188 [==============================] - 56s 299ms/step - loss: 0.0590 - accuracy: 0.9798 - val_loss: 0.2649 - val_accuracy: 0.9320\n",
      "Epoch 20/30\n",
      "188/188 [==============================] - 59s 315ms/step - loss: 0.0515 - accuracy: 0.9831 - val_loss: 0.2553 - val_accuracy: 0.9337\n",
      "Epoch 21/30\n",
      "188/188 [==============================] - 60s 317ms/step - loss: 0.0466 - accuracy: 0.9850 - val_loss: 0.3129 - val_accuracy: 0.9163\n",
      "Epoch 22/30\n",
      "188/188 [==============================] - 56s 296ms/step - loss: 0.0510 - accuracy: 0.9833 - val_loss: 0.2513 - val_accuracy: 0.9360\n",
      "Epoch 23/30\n",
      "188/188 [==============================] - 56s 295ms/step - loss: 0.0436 - accuracy: 0.9847 - val_loss: 0.2683 - val_accuracy: 0.9377\n",
      "Epoch 24/30\n",
      "188/188 [==============================] - 54s 287ms/step - loss: 0.0438 - accuracy: 0.9848 - val_loss: 0.2598 - val_accuracy: 0.9383\n",
      "Epoch 25/30\n",
      "188/188 [==============================] - 53s 284ms/step - loss: 0.0489 - accuracy: 0.9836 - val_loss: 0.2506 - val_accuracy: 0.9373\n",
      "Epoch 26/30\n",
      "188/188 [==============================] - 54s 287ms/step - loss: 0.0400 - accuracy: 0.9872 - val_loss: 0.2652 - val_accuracy: 0.9353\n",
      "Epoch 27/30\n",
      "188/188 [==============================] - 54s 287ms/step - loss: 0.0364 - accuracy: 0.9869 - val_loss: 0.2952 - val_accuracy: 0.9250\n",
      "Epoch 28/30\n",
      "188/188 [==============================] - 53s 282ms/step - loss: 0.0292 - accuracy: 0.9900 - val_loss: 0.2576 - val_accuracy: 0.9417\n",
      "Epoch 29/30\n",
      "188/188 [==============================] - 54s 288ms/step - loss: 0.0298 - accuracy: 0.9900 - val_loss: 0.2762 - val_accuracy: 0.9307\n",
      "Epoch 30/30\n",
      "188/188 [==============================] - 53s 283ms/step - loss: 0.0328 - accuracy: 0.9898 - val_loss: 0.2519 - val_accuracy: 0.9407\n"
     ]
    }
   ],
   "source": [
    "history2 = model2.fit(X_train, \n",
    "                      y_train, \n",
    "                      batch_size = 64, \n",
    "                      epochs = 30, \n",
    "                      validation_data = (X_test, y_test))"
   ]
  },
  {
   "cell_type": "code",
   "execution_count": 19,
   "metadata": {},
   "outputs": [
    {
     "data": {
      "image/png": "[encoded data removed]",
      "text/plain": [
       "<Figure size 432x288 with 1 Axes>"
      ]
     },
     "metadata": {
      "needs_background": "light"
     },
     "output_type": "display_data"
    }
   ],
   "source": [
    "plt.plot(history.history['loss'], label = 'train loss')\n",
    "plt.plot(history.history['val_loss'], label = 'test loss')\n",
    "plt.legend();"
   ]
  },
  {
   "cell_type": "code",
   "execution_count": 20,
   "metadata": {},
   "outputs": [
    {
     "data": {
      "image/png": "[encoded data removed]",
      "text/plain": [
       "<Figure size 432x288 with 1 Axes>"
      ]
     },
     "metadata": {
      "needs_background": "light"
     },
     "output_type": "display_data"
    }
   ],
   "source": [
    "plt.plot(history.history['accuracy'], label = 'train acc')\n",
    "plt.plot(history.history['val_accuracy'], label = 'test acc')\n",
    "plt.legend();"
   ]
  },
  {
   "cell_type": "code",
   "execution_count": null,
   "metadata": {},
   "outputs": [],
   "source": []
  },
  {
   "cell_type": "code",
   "execution_count": null,
   "metadata": {},
   "outputs": [],
   "source": []
  },
  {
   "cell_type": "code",
   "execution_count": null,
   "metadata": {},
   "outputs": [],
   "source": []
  },
  {
   "cell_type": "code",
   "execution_count": null,
   "metadata": {},
   "outputs": [],
   "source": []
  }
 ],
 "metadata": {
  "kernelspec": {
   "display_name": "Python 3",
   "language": "python",
   "name": "python3"
  },
  "language_info": {
   "codemirror_mode": {
    "name": "ipython",
    "version": 3
   },
   "file_extension": ".py",
   "mimetype": "text/x-python",
   "name": "python",
   "nbconvert_exporter": "python",
   "pygments_lexer": "ipython3",
   "version": "3.7.7"
  }
 },
 "nbformat": 4,
 "nbformat_minor": 4
}
